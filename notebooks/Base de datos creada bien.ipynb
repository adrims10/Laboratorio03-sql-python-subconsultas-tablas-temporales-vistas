{
 "cells": [
  {
   "cell_type": "code",
   "execution_count": 543,
   "metadata": {},
   "outputs": [],
   "source": [
    "import psycopg2\n",
    "from psycopg2 import OperationalError, errorcodes, errors\n",
    "import pandas as pd"
   ]
  },
  {
   "cell_type": "code",
   "execution_count": 544,
   "metadata": {},
   "outputs": [],
   "source": [
    "try:\n",
    "    conexion = psycopg2.connect(\n",
    "        database = \"forq2\",\n",
    "        user = \"postgres\",\n",
    "        password = \"admin\",\n",
    "        host = \"localhost\",\n",
    "        port = \"5432\"\n",
    "    )\n",
    "except OperationalError as e:\n",
    "    if e.pgcode == errorcodes.INVALID_PASSWORD:\n",
    "        print(\"Contraseña es errónea\")\n",
    "    elif e.pgcode == errorcodes.CONNECTION_EXCEPTION:\n",
    "        print(\"Error de conexión\")\n",
    "    else:\n",
    "        print(f\"Ocurrió el error {e}\") \n",
    "\n",
    "cursor = conexion.cursor()"
   ]
  },
  {
   "cell_type": "code",
   "execution_count": 545,
   "metadata": {},
   "outputs": [],
   "source": [
    "df_f = pd.read_csv(\"datos/api_foursquare.csv\", index_col = 0)\n",
    "df_muni = pd.read_csv(\"datos/municipios.csv\", index_col = 0)\n",
    "df_ae = pd.read_csv(\"datos/df_aemet_final.csv\", index_col = 0)"
   ]
  },
  {
   "cell_type": "code",
   "execution_count": 546,
   "metadata": {},
   "outputs": [
    {
     "data": {
      "text/html": [
       "<div>\n",
       "<style scoped>\n",
       "    .dataframe tbody tr th:only-of-type {\n",
       "        vertical-align: middle;\n",
       "    }\n",
       "\n",
       "    .dataframe tbody tr th {\n",
       "        vertical-align: top;\n",
       "    }\n",
       "\n",
       "    .dataframe thead th {\n",
       "        text-align: right;\n",
       "    }\n",
       "</style>\n",
       "<table border=\"1\" class=\"dataframe\">\n",
       "  <thead>\n",
       "    <tr style=\"text-align: right;\">\n",
       "      <th></th>\n",
       "      <th>fecha</th>\n",
       "      <th>cielo</th>\n",
       "      <th>temp._(°c)</th>\n",
       "      <th>sen._térmica_(°c)</th>\n",
       "      <th>racha_máx._(km/h)</th>\n",
       "      <th>precipitación_(mm)</th>\n",
       "      <th>nieve_(mm)</th>\n",
       "      <th>humedad_relativa_(%)</th>\n",
       "      <th>prob._precip.__(%)</th>\n",
       "      <th>prob._de_nieve_(%)</th>\n",
       "      <th>prob._de_tormenta_(%)</th>\n",
       "      <th>avisos</th>\n",
       "      <th>dirección_viento</th>\n",
       "      <th>velocidad_del_viento</th>\n",
       "      <th>localizacion_id</th>\n",
       "    </tr>\n",
       "  </thead>\n",
       "  <tbody>\n",
       "    <tr>\n",
       "      <th>0</th>\n",
       "      <td>2024-08-29 12:00:00</td>\n",
       "      <td>Nubes altas</td>\n",
       "      <td>21</td>\n",
       "      <td>21</td>\n",
       "      <td>25.0</td>\n",
       "      <td>0.0</td>\n",
       "      <td>0</td>\n",
       "      <td>69</td>\n",
       "      <td>95</td>\n",
       "      <td>0</td>\n",
       "      <td>75</td>\n",
       "      <td>Riesgo</td>\n",
       "      <td>S</td>\n",
       "      <td>7</td>\n",
       "      <td>acebeda-la-id28001</td>\n",
       "    </tr>\n",
       "  </tbody>\n",
       "</table>\n",
       "</div>"
      ],
      "text/plain": [
       "                 fecha        cielo  temp._(°c)  sen._térmica_(°c)  \\\n",
       "0  2024-08-29 12:00:00  Nubes altas          21                 21   \n",
       "\n",
       "   racha_máx._(km/h)  precipitación_(mm)  nieve_(mm)  humedad_relativa_(%)  \\\n",
       "0               25.0                 0.0           0                    69   \n",
       "\n",
       "  prob._precip.__(%)  prob._de_nieve_(%)  prob._de_tormenta_(%)  avisos  \\\n",
       "0                 95                   0                     75  Riesgo   \n",
       "\n",
       "  dirección_viento  velocidad_del_viento     localizacion_id  \n",
       "0                S                     7  acebeda-la-id28001  "
      ]
     },
     "execution_count": 546,
     "metadata": {},
     "output_type": "execute_result"
    }
   ],
   "source": [
    "df_ae.reset_index(inplace=True)\n",
    "df_ae.head(1)"
   ]
  },
  {
   "cell_type": "code",
   "execution_count": 547,
   "metadata": {},
   "outputs": [],
   "source": [
    "df_ae[['localizacion', 'id']] = df_ae['localizacion_id'].str.split('-id', expand=True)\n",
    "df_ae[['fecha', 'hora']] = df_ae['fecha'].str.split(' ', expand=True)"
   ]
  },
  {
   "cell_type": "code",
   "execution_count": 548,
   "metadata": {},
   "outputs": [
    {
     "data": {
      "text/html": [
       "<div>\n",
       "<style scoped>\n",
       "    .dataframe tbody tr th:only-of-type {\n",
       "        vertical-align: middle;\n",
       "    }\n",
       "\n",
       "    .dataframe tbody tr th {\n",
       "        vertical-align: top;\n",
       "    }\n",
       "\n",
       "    .dataframe thead th {\n",
       "        text-align: right;\n",
       "    }\n",
       "</style>\n",
       "<table border=\"1\" class=\"dataframe\">\n",
       "  <thead>\n",
       "    <tr style=\"text-align: right;\">\n",
       "      <th></th>\n",
       "      <th>fecha</th>\n",
       "      <th>cielo</th>\n",
       "      <th>temp._(°c)</th>\n",
       "      <th>sen._térmica_(°c)</th>\n",
       "      <th>racha_máx._(km/h)</th>\n",
       "      <th>precipitación_(mm)</th>\n",
       "      <th>nieve_(mm)</th>\n",
       "      <th>humedad_relativa_(%)</th>\n",
       "      <th>prob._precip.__(%)</th>\n",
       "      <th>prob._de_nieve_(%)</th>\n",
       "      <th>prob._de_tormenta_(%)</th>\n",
       "      <th>avisos</th>\n",
       "      <th>dirección_viento</th>\n",
       "      <th>velocidad_del_viento</th>\n",
       "      <th>localizacion_id</th>\n",
       "      <th>localizacion</th>\n",
       "      <th>id</th>\n",
       "      <th>hora</th>\n",
       "    </tr>\n",
       "  </thead>\n",
       "  <tbody>\n",
       "    <tr>\n",
       "      <th>0</th>\n",
       "      <td>2024-08-29</td>\n",
       "      <td>Nubes altas</td>\n",
       "      <td>21</td>\n",
       "      <td>21</td>\n",
       "      <td>25.0</td>\n",
       "      <td>0.0</td>\n",
       "      <td>0</td>\n",
       "      <td>69</td>\n",
       "      <td>95</td>\n",
       "      <td>0</td>\n",
       "      <td>75</td>\n",
       "      <td>Riesgo</td>\n",
       "      <td>S</td>\n",
       "      <td>7</td>\n",
       "      <td>acebeda-la-id28001</td>\n",
       "      <td>acebeda-la</td>\n",
       "      <td>28001</td>\n",
       "      <td>12:00:00</td>\n",
       "    </tr>\n",
       "    <tr>\n",
       "      <th>1</th>\n",
       "      <td>2024-08-29</td>\n",
       "      <td>Nubes altas</td>\n",
       "      <td>24</td>\n",
       "      <td>24</td>\n",
       "      <td>29.0</td>\n",
       "      <td>0.0</td>\n",
       "      <td>0</td>\n",
       "      <td>57</td>\n",
       "      <td>Riesgo</td>\n",
       "      <td>0</td>\n",
       "      <td>75</td>\n",
       "      <td>Riesgo</td>\n",
       "      <td>SE</td>\n",
       "      <td>12</td>\n",
       "      <td>acebeda-la-id28001</td>\n",
       "      <td>acebeda-la</td>\n",
       "      <td>28001</td>\n",
       "      <td>13:00:00</td>\n",
       "    </tr>\n",
       "  </tbody>\n",
       "</table>\n",
       "</div>"
      ],
      "text/plain": [
       "        fecha        cielo  temp._(°c)  sen._térmica_(°c)  racha_máx._(km/h)  \\\n",
       "0  2024-08-29  Nubes altas          21                 21               25.0   \n",
       "1  2024-08-29  Nubes altas          24                 24               29.0   \n",
       "\n",
       "   precipitación_(mm)  nieve_(mm)  humedad_relativa_(%) prob._precip.__(%)  \\\n",
       "0                 0.0           0                    69                 95   \n",
       "1                 0.0           0                    57             Riesgo   \n",
       "\n",
       "   prob._de_nieve_(%)  prob._de_tormenta_(%)  avisos dirección_viento  \\\n",
       "0                   0                     75  Riesgo                S   \n",
       "1                   0                     75  Riesgo               SE   \n",
       "\n",
       "   velocidad_del_viento     localizacion_id localizacion     id      hora  \n",
       "0                     7  acebeda-la-id28001   acebeda-la  28001  12:00:00  \n",
       "1                    12  acebeda-la-id28001   acebeda-la  28001  13:00:00  "
      ]
     },
     "execution_count": 548,
     "metadata": {},
     "output_type": "execute_result"
    }
   ],
   "source": [
    "df_ae.head(2)"
   ]
  },
  {
   "cell_type": "code",
   "execution_count": 549,
   "metadata": {},
   "outputs": [],
   "source": [
    "# df_ae = df_ae.drop(columns = \"level_0\")\n",
    "# df_ae = df_ae.drop(columns = \"index\")"
   ]
  },
  {
   "cell_type": "code",
   "execution_count": 550,
   "metadata": {},
   "outputs": [
    {
     "data": {
      "text/html": [
       "<div>\n",
       "<style scoped>\n",
       "    .dataframe tbody tr th:only-of-type {\n",
       "        vertical-align: middle;\n",
       "    }\n",
       "\n",
       "    .dataframe tbody tr th {\n",
       "        vertical-align: top;\n",
       "    }\n",
       "\n",
       "    .dataframe thead th {\n",
       "        text-align: right;\n",
       "    }\n",
       "</style>\n",
       "<table border=\"1\" class=\"dataframe\">\n",
       "  <thead>\n",
       "    <tr style=\"text-align: right;\">\n",
       "      <th></th>\n",
       "      <th>fecha</th>\n",
       "      <th>cielo</th>\n",
       "      <th>temp._(°c)</th>\n",
       "      <th>sen._térmica_(°c)</th>\n",
       "      <th>racha_máx._(km/h)</th>\n",
       "      <th>precipitación_(mm)</th>\n",
       "      <th>nieve_(mm)</th>\n",
       "      <th>humedad_relativa_(%)</th>\n",
       "      <th>prob._precip.__(%)</th>\n",
       "      <th>prob._de_nieve_(%)</th>\n",
       "      <th>prob._de_tormenta_(%)</th>\n",
       "      <th>avisos</th>\n",
       "      <th>dirección_viento</th>\n",
       "      <th>velocidad_del_viento</th>\n",
       "      <th>localizacion_id</th>\n",
       "      <th>id_municipio</th>\n",
       "      <th>id</th>\n",
       "      <th>hora</th>\n",
       "    </tr>\n",
       "  </thead>\n",
       "  <tbody>\n",
       "    <tr>\n",
       "      <th>0</th>\n",
       "      <td>2024-08-29</td>\n",
       "      <td>Nubes altas</td>\n",
       "      <td>21</td>\n",
       "      <td>21</td>\n",
       "      <td>25.0</td>\n",
       "      <td>0.0</td>\n",
       "      <td>0</td>\n",
       "      <td>69</td>\n",
       "      <td>95</td>\n",
       "      <td>0</td>\n",
       "      <td>75</td>\n",
       "      <td>Riesgo</td>\n",
       "      <td>S</td>\n",
       "      <td>7</td>\n",
       "      <td>acebeda-la-id28001</td>\n",
       "      <td>acebeda-la</td>\n",
       "      <td>28001</td>\n",
       "      <td>12:00:00</td>\n",
       "    </tr>\n",
       "  </tbody>\n",
       "</table>\n",
       "</div>"
      ],
      "text/plain": [
       "        fecha        cielo  temp._(°c)  sen._térmica_(°c)  racha_máx._(km/h)  \\\n",
       "0  2024-08-29  Nubes altas          21                 21               25.0   \n",
       "\n",
       "   precipitación_(mm)  nieve_(mm)  humedad_relativa_(%) prob._precip.__(%)  \\\n",
       "0                 0.0           0                    69                 95   \n",
       "\n",
       "   prob._de_nieve_(%)  prob._de_tormenta_(%)  avisos dirección_viento  \\\n",
       "0                   0                     75  Riesgo                S   \n",
       "\n",
       "   velocidad_del_viento     localizacion_id id_municipio     id      hora  \n",
       "0                     7  acebeda-la-id28001   acebeda-la  28001  12:00:00  "
      ]
     },
     "execution_count": 550,
     "metadata": {},
     "output_type": "execute_result"
    }
   ],
   "source": [
    "df_ae.rename(columns={'localizacion': 'id_municipio'}, inplace=True)\n",
    "df_ae.head(1)"
   ]
  },
  {
   "cell_type": "code",
   "execution_count": 551,
   "metadata": {},
   "outputs": [],
   "source": [
    "df_ae = df_ae.drop(columns = \"localizacion_id\")\n",
    "df_ae = df_ae.drop(columns = \"prob._precip.__(%)\")\n",
    "df_ae = df_ae.drop(columns = \"id\") "
   ]
  },
  {
   "cell_type": "code",
   "execution_count": 552,
   "metadata": {},
   "outputs": [],
   "source": [
    "df_f.rename(columns={'municipio': 'municipio_id'}, inplace=True)\n"
   ]
  },
  {
   "cell_type": "code",
   "execution_count": 553,
   "metadata": {},
   "outputs": [],
   "source": [
    "df_f['latitude'] = df_f['latitude'].astype(float) \n",
    "df_f['longitude'] = df_f['longitude'].astype(float)"
   ]
  },
  {
   "cell_type": "code",
   "execution_count": 554,
   "metadata": {},
   "outputs": [
    {
     "data": {
      "text/html": [
       "<div>\n",
       "<style scoped>\n",
       "    .dataframe tbody tr th:only-of-type {\n",
       "        vertical-align: middle;\n",
       "    }\n",
       "\n",
       "    .dataframe tbody tr th {\n",
       "        vertical-align: top;\n",
       "    }\n",
       "\n",
       "    .dataframe thead th {\n",
       "        text-align: right;\n",
       "    }\n",
       "</style>\n",
       "<table border=\"1\" class=\"dataframe\">\n",
       "  <thead>\n",
       "    <tr style=\"text-align: right;\">\n",
       "      <th></th>\n",
       "      <th>municipio_id</th>\n",
       "      <th>category</th>\n",
       "      <th>fsq_id</th>\n",
       "      <th>closed_bucket</th>\n",
       "      <th>distance</th>\n",
       "      <th>link</th>\n",
       "      <th>name</th>\n",
       "      <th>address</th>\n",
       "      <th>latitude</th>\n",
       "      <th>longitude</th>\n",
       "    </tr>\n",
       "  </thead>\n",
       "  <tbody>\n",
       "    <tr>\n",
       "      <th>0</th>\n",
       "      <td>ajalvir</td>\n",
       "      <td>Park</td>\n",
       "      <td>4d3c6c5b84d46ea87dddfd5c</td>\n",
       "      <td>LikelyOpen</td>\n",
       "      <td>563.0</td>\n",
       "      <td>/v3/places/4d3c6c5b84d46ea87dddfd5c</td>\n",
       "      <td>Diverjungla</td>\n",
       "      <td>Calle Segovia, 20 (Pol. Ind. Donada), 28864 Aj...</td>\n",
       "      <td>40.529921</td>\n",
       "      <td>-3.484341</td>\n",
       "    </tr>\n",
       "  </tbody>\n",
       "</table>\n",
       "</div>"
      ],
      "text/plain": [
       "  municipio_id category                    fsq_id closed_bucket  distance  \\\n",
       "0      ajalvir     Park  4d3c6c5b84d46ea87dddfd5c    LikelyOpen     563.0   \n",
       "\n",
       "                                  link         name  \\\n",
       "0  /v3/places/4d3c6c5b84d46ea87dddfd5c  Diverjungla   \n",
       "\n",
       "                                             address   latitude  longitude  \n",
       "0  Calle Segovia, 20 (Pol. Ind. Donada), 28864 Aj...  40.529921  -3.484341  "
      ]
     },
     "execution_count": 554,
     "metadata": {},
     "output_type": "execute_result"
    }
   ],
   "source": [
    "df_f.head(1)"
   ]
  },
  {
   "cell_type": "code",
   "execution_count": 555,
   "metadata": {},
   "outputs": [
    {
     "data": {
      "text/html": [
       "<div>\n",
       "<style scoped>\n",
       "    .dataframe tbody tr th:only-of-type {\n",
       "        vertical-align: middle;\n",
       "    }\n",
       "\n",
       "    .dataframe tbody tr th {\n",
       "        vertical-align: top;\n",
       "    }\n",
       "\n",
       "    .dataframe thead th {\n",
       "        text-align: right;\n",
       "    }\n",
       "</style>\n",
       "<table border=\"1\" class=\"dataframe\">\n",
       "  <thead>\n",
       "    <tr style=\"text-align: right;\">\n",
       "      <th></th>\n",
       "      <th>index</th>\n",
       "      <th>0</th>\n",
       "      <th>1</th>\n",
       "      <th>2</th>\n",
       "    </tr>\n",
       "  </thead>\n",
       "  <tbody>\n",
       "    <tr>\n",
       "      <th>0</th>\n",
       "      <td>acebeda-la</td>\n",
       "      <td>41.0869583</td>\n",
       "      <td>-3.624399</td>\n",
       "      <td>La Acebeda</td>\n",
       "    </tr>\n",
       "    <tr>\n",
       "      <th>1</th>\n",
       "      <td>ajalvir</td>\n",
       "      <td>40.5342302</td>\n",
       "      <td>-3.4807818</td>\n",
       "      <td>Ajalvir</td>\n",
       "    </tr>\n",
       "    <tr>\n",
       "      <th>2</th>\n",
       "      <td>alameda-del-valle</td>\n",
       "      <td>40.9177178</td>\n",
       "      <td>-3.8438216</td>\n",
       "      <td>Alameda del Valle</td>\n",
       "    </tr>\n",
       "    <tr>\n",
       "      <th>3</th>\n",
       "      <td>alamo-el</td>\n",
       "      <td>40.2307296</td>\n",
       "      <td>-3.9905893</td>\n",
       "      <td>El Álamo</td>\n",
       "    </tr>\n",
       "    <tr>\n",
       "      <th>4</th>\n",
       "      <td>alcala-de-henares</td>\n",
       "      <td>40.4818396</td>\n",
       "      <td>-3.3644973</td>\n",
       "      <td>Alcalá de Henares</td>\n",
       "    </tr>\n",
       "    <tr>\n",
       "      <th>...</th>\n",
       "      <td>...</td>\n",
       "      <td>...</td>\n",
       "      <td>...</td>\n",
       "      <td>...</td>\n",
       "    </tr>\n",
       "    <tr>\n",
       "      <th>171</th>\n",
       "      <td>villar-del-olmo</td>\n",
       "      <td>40.3364465</td>\n",
       "      <td>-3.2355624</td>\n",
       "      <td>Villar del Olmo</td>\n",
       "    </tr>\n",
       "    <tr>\n",
       "      <th>172</th>\n",
       "      <td>villarejo-de-salvanes</td>\n",
       "      <td>40.1683582</td>\n",
       "      <td>-3.2738764</td>\n",
       "      <td>Villarejo de Salvanés</td>\n",
       "    </tr>\n",
       "    <tr>\n",
       "      <th>173</th>\n",
       "      <td>villaviciosa-de-odon</td>\n",
       "      <td>40.3573787</td>\n",
       "      <td>-3.9002334</td>\n",
       "      <td>Villaviciosa de Odón</td>\n",
       "    </tr>\n",
       "    <tr>\n",
       "      <th>174</th>\n",
       "      <td>villavieja-del-lozoya</td>\n",
       "      <td>41.0063622</td>\n",
       "      <td>-3.6716291</td>\n",
       "      <td>Villavieja del Lozoya</td>\n",
       "    </tr>\n",
       "    <tr>\n",
       "      <th>175</th>\n",
       "      <td>zarzalejo</td>\n",
       "      <td>40.5483016</td>\n",
       "      <td>-4.1815899</td>\n",
       "      <td>Zarzalejo</td>\n",
       "    </tr>\n",
       "  </tbody>\n",
       "</table>\n",
       "<p>176 rows × 4 columns</p>\n",
       "</div>"
      ],
      "text/plain": [
       "                     index           0           1                      2\n",
       "0               acebeda-la  41.0869583   -3.624399             La Acebeda\n",
       "1                  ajalvir  40.5342302  -3.4807818                Ajalvir\n",
       "2        alameda-del-valle  40.9177178  -3.8438216      Alameda del Valle\n",
       "3                 alamo-el  40.2307296  -3.9905893               El Álamo\n",
       "4        alcala-de-henares  40.4818396  -3.3644973      Alcalá de Henares\n",
       "..                     ...         ...         ...                    ...\n",
       "171        villar-del-olmo  40.3364465  -3.2355624        Villar del Olmo\n",
       "172  villarejo-de-salvanes  40.1683582  -3.2738764  Villarejo de Salvanés\n",
       "173   villaviciosa-de-odon  40.3573787  -3.9002334   Villaviciosa de Odón\n",
       "174  villavieja-del-lozoya  41.0063622  -3.6716291  Villavieja del Lozoya\n",
       "175              zarzalejo  40.5483016  -4.1815899              Zarzalejo\n",
       "\n",
       "[176 rows x 4 columns]"
      ]
     },
     "execution_count": 555,
     "metadata": {},
     "output_type": "execute_result"
    }
   ],
   "source": [
    "df_muni = df_muni.T\n",
    "df_muni.reset_index(inplace=True)\n",
    "df_muni"
   ]
  },
  {
   "cell_type": "code",
   "execution_count": 556,
   "metadata": {},
   "outputs": [],
   "source": [
    "df_muni.rename(columns={'index': 'id_municipio', 0: 'latitud', 1:'longitud',2:'nombre municipio'}, inplace=True)"
   ]
  },
  {
   "cell_type": "code",
   "execution_count": 557,
   "metadata": {},
   "outputs": [],
   "source": [
    "df_muni['latitud'] = df_muni['latitud'].astype(float)\n",
    "df_muni['longitud'] = df_muni['longitud'].astype(float)"
   ]
  },
  {
   "cell_type": "code",
   "execution_count": 558,
   "metadata": {},
   "outputs": [],
   "source": [
    "set_aemet = set(df_ae['id_municipio'])\n",
    "set_municipios = set(df_muni['id_municipio'])"
   ]
  },
  {
   "cell_type": "code",
   "execution_count": 559,
   "metadata": {},
   "outputs": [],
   "source": [
    "nombres_limpiar = set_aemet-set_municipios"
   ]
  },
  {
   "cell_type": "code",
   "execution_count": 560,
   "metadata": {},
   "outputs": [
    {
     "data": {
      "text/plain": [
       "{'cabrera-la', 'leganes', 'molinos-los'}"
      ]
     },
     "execution_count": 560,
     "metadata": {},
     "output_type": "execute_result"
    }
   ],
   "source": [
    "nombres_limpiar"
   ]
  },
  {
   "cell_type": "code",
   "execution_count": 561,
   "metadata": {},
   "outputs": [],
   "source": [
    "df_ae = df_ae.loc[df_ae['id_municipio'] != 'cabrera-la']\n",
    "df_ae = df_ae.loc[df_ae['id_municipio'] != 'leganes']\n",
    "df_ae = df_ae.loc[df_ae['id_municipio'] != 'molinos-los']"
   ]
  },
  {
   "cell_type": "code",
   "execution_count": 562,
   "metadata": {},
   "outputs": [],
   "source": [
    "# nuevo_df_ae = df_ae[['municipio_id', 'fecha', 'cielo']]"
   ]
  },
  {
   "cell_type": "code",
   "execution_count": 563,
   "metadata": {},
   "outputs": [],
   "source": [
    "lista_tuplas_municipios = []\n",
    "for fila in df_muni.values:\n",
    "    lista_tuplas_municipios.append(tuple(fila))\n"
   ]
  },
  {
   "cell_type": "code",
   "execution_count": 564,
   "metadata": {},
   "outputs": [],
   "source": [
    "query_creacion_municipios = '''\n",
    "    create table if not exists municipios(\n",
    "        id_municipio VARCHAR(100) primary key, \n",
    "        latitud INT,\n",
    "        longitud INT,\n",
    "        nombre VARCHAR(100)\n",
    "        ); '''\n",
    "\n",
    "cursor.execute(query_creacion_municipios)\n",
    "conexion.commit()"
   ]
  },
  {
   "cell_type": "code",
   "execution_count": 565,
   "metadata": {},
   "outputs": [],
   "source": [
    "# query_insercion_municipios = '''\n",
    "#     insert into municipios (id_municipio, latitud, longitud, nombre)\n",
    "#     values\n",
    "#     (%s, %s, %s, %s)''' \n",
    "\n",
    "# cursor.executemany(query_insercion_municipios, lista_tuplas_municipios) \n",
    "# conexion.commit()"
   ]
  },
  {
   "cell_type": "code",
   "execution_count": 566,
   "metadata": {},
   "outputs": [
    {
     "data": {
      "text/html": [
       "<div>\n",
       "<style scoped>\n",
       "    .dataframe tbody tr th:only-of-type {\n",
       "        vertical-align: middle;\n",
       "    }\n",
       "\n",
       "    .dataframe tbody tr th {\n",
       "        vertical-align: top;\n",
       "    }\n",
       "\n",
       "    .dataframe thead th {\n",
       "        text-align: right;\n",
       "    }\n",
       "</style>\n",
       "<table border=\"1\" class=\"dataframe\">\n",
       "  <thead>\n",
       "    <tr style=\"text-align: right;\">\n",
       "      <th></th>\n",
       "      <th>municipio_id</th>\n",
       "      <th>category</th>\n",
       "      <th>fsq_id</th>\n",
       "      <th>closed_bucket</th>\n",
       "      <th>distance</th>\n",
       "      <th>link</th>\n",
       "      <th>name</th>\n",
       "      <th>address</th>\n",
       "      <th>latitude</th>\n",
       "      <th>longitude</th>\n",
       "    </tr>\n",
       "  </thead>\n",
       "  <tbody>\n",
       "    <tr>\n",
       "      <th>0</th>\n",
       "      <td>ajalvir</td>\n",
       "      <td>Park</td>\n",
       "      <td>4d3c6c5b84d46ea87dddfd5c</td>\n",
       "      <td>LikelyOpen</td>\n",
       "      <td>563.0</td>\n",
       "      <td>/v3/places/4d3c6c5b84d46ea87dddfd5c</td>\n",
       "      <td>Diverjungla</td>\n",
       "      <td>Calle Segovia, 20 (Pol. Ind. Donada), 28864 Aj...</td>\n",
       "      <td>40.529921</td>\n",
       "      <td>-3.484341</td>\n",
       "    </tr>\n",
       "    <tr>\n",
       "      <th>1</th>\n",
       "      <td>ajalvir</td>\n",
       "      <td>Park</td>\n",
       "      <td>4f54f7bfe4b036244d02685b</td>\n",
       "      <td>VeryLikelyOpen</td>\n",
       "      <td>1724.0</td>\n",
       "      <td>/v3/places/4f54f7bfe4b036244d02685b</td>\n",
       "      <td>Parque Infantil</td>\n",
       "      <td>NaN</td>\n",
       "      <td>40.543867</td>\n",
       "      <td>-3.464773</td>\n",
       "    </tr>\n",
       "  </tbody>\n",
       "</table>\n",
       "</div>"
      ],
      "text/plain": [
       "  municipio_id category                    fsq_id   closed_bucket  distance  \\\n",
       "0      ajalvir     Park  4d3c6c5b84d46ea87dddfd5c      LikelyOpen     563.0   \n",
       "1      ajalvir     Park  4f54f7bfe4b036244d02685b  VeryLikelyOpen    1724.0   \n",
       "\n",
       "                                  link             name  \\\n",
       "0  /v3/places/4d3c6c5b84d46ea87dddfd5c      Diverjungla   \n",
       "1  /v3/places/4f54f7bfe4b036244d02685b  Parque Infantil   \n",
       "\n",
       "                                             address   latitude  longitude  \n",
       "0  Calle Segovia, 20 (Pol. Ind. Donada), 28864 Aj...  40.529921  -3.484341  \n",
       "1                                                NaN  40.543867  -3.464773  "
      ]
     },
     "execution_count": 566,
     "metadata": {},
     "output_type": "execute_result"
    }
   ],
   "source": [
    "df_f.head(2)"
   ]
  },
  {
   "cell_type": "code",
   "execution_count": 567,
   "metadata": {},
   "outputs": [],
   "source": [
    "df_f= df_f.drop(columns = \"fsq_id\")"
   ]
  },
  {
   "cell_type": "code",
   "execution_count": 568,
   "metadata": {},
   "outputs": [
    {
     "data": {
      "text/html": [
       "<div>\n",
       "<style scoped>\n",
       "    .dataframe tbody tr th:only-of-type {\n",
       "        vertical-align: middle;\n",
       "    }\n",
       "\n",
       "    .dataframe tbody tr th {\n",
       "        vertical-align: top;\n",
       "    }\n",
       "\n",
       "    .dataframe thead th {\n",
       "        text-align: right;\n",
       "    }\n",
       "</style>\n",
       "<table border=\"1\" class=\"dataframe\">\n",
       "  <thead>\n",
       "    <tr style=\"text-align: right;\">\n",
       "      <th></th>\n",
       "      <th>municipio_id</th>\n",
       "      <th>category</th>\n",
       "      <th>closed_bucket</th>\n",
       "      <th>distance</th>\n",
       "      <th>link</th>\n",
       "      <th>name</th>\n",
       "      <th>address</th>\n",
       "      <th>latitude</th>\n",
       "      <th>longitude</th>\n",
       "    </tr>\n",
       "  </thead>\n",
       "  <tbody>\n",
       "    <tr>\n",
       "      <th>0</th>\n",
       "      <td>ajalvir</td>\n",
       "      <td>Park</td>\n",
       "      <td>LikelyOpen</td>\n",
       "      <td>563.0</td>\n",
       "      <td>/v3/places/4d3c6c5b84d46ea87dddfd5c</td>\n",
       "      <td>Diverjungla</td>\n",
       "      <td>Calle Segovia, 20 (Pol. Ind. Donada), 28864 Aj...</td>\n",
       "      <td>40.529921</td>\n",
       "      <td>-3.484341</td>\n",
       "    </tr>\n",
       "    <tr>\n",
       "      <th>1</th>\n",
       "      <td>ajalvir</td>\n",
       "      <td>Park</td>\n",
       "      <td>VeryLikelyOpen</td>\n",
       "      <td>1724.0</td>\n",
       "      <td>/v3/places/4f54f7bfe4b036244d02685b</td>\n",
       "      <td>Parque Infantil</td>\n",
       "      <td>NaN</td>\n",
       "      <td>40.543867</td>\n",
       "      <td>-3.464773</td>\n",
       "    </tr>\n",
       "  </tbody>\n",
       "</table>\n",
       "</div>"
      ],
      "text/plain": [
       "  municipio_id category   closed_bucket  distance  \\\n",
       "0      ajalvir     Park      LikelyOpen     563.0   \n",
       "1      ajalvir     Park  VeryLikelyOpen    1724.0   \n",
       "\n",
       "                                  link             name  \\\n",
       "0  /v3/places/4d3c6c5b84d46ea87dddfd5c      Diverjungla   \n",
       "1  /v3/places/4f54f7bfe4b036244d02685b  Parque Infantil   \n",
       "\n",
       "                                             address   latitude  longitude  \n",
       "0  Calle Segovia, 20 (Pol. Ind. Donada), 28864 Aj...  40.529921  -3.484341  \n",
       "1                                                NaN  40.543867  -3.464773  "
      ]
     },
     "execution_count": 568,
     "metadata": {},
     "output_type": "execute_result"
    }
   ],
   "source": [
    "df_f.head(2)"
   ]
  },
  {
   "cell_type": "code",
   "execution_count": 569,
   "metadata": {},
   "outputs": [],
   "source": [
    "lista_tuplas_f = []\n",
    "for fila in df_f.values:\n",
    "    lista_tuplas_f.append(tuple(fila))\n"
   ]
  },
  {
   "cell_type": "code",
   "execution_count": 570,
   "metadata": {},
   "outputs": [
    {
     "data": {
      "text/plain": [
       "9"
      ]
     },
     "execution_count": 570,
     "metadata": {},
     "output_type": "execute_result"
    }
   ],
   "source": [
    "len(lista_tuplas_f[0])"
   ]
  },
  {
   "cell_type": "code",
   "execution_count": 571,
   "metadata": {},
   "outputs": [],
   "source": [
    "query_creacion_locales = '''\n",
    "    create table if not exists locales (\n",
    "        id_local SERIAL primary key,\n",
    "        id_municipio VARCHAR(100)\n",
    "            references municipios(id_municipio)\n",
    "            on update cascade,\n",
    "        categoria CHAR(50),\n",
    "        estado CHAR(50),\n",
    "        distancia INT,\n",
    "        link VARCHAR(100),\n",
    "        nombre VARCHAR(100),\n",
    "        direccion VARCHAR(300),\n",
    "        latitud DECIMAL,\n",
    "        longitud DECIMAL\n",
    "    );'''\n",
    "\n",
    "cursor.execute(query_creacion_locales)\n",
    "conexion.commit()"
   ]
  },
  {
   "cell_type": "code",
   "execution_count": 572,
   "metadata": {},
   "outputs": [],
   "source": [
    "query_insercion_locales = '''\n",
    "    insert into locales (id_municipio, categoria,estado, distancia, link, nombre, direccion, latitud, longitud)\n",
    "    values\n",
    "    (%s, %s, %s, %s, %s, %s, %s, %s, %s)''' \n",
    "\n",
    "cursor.executemany(query_insercion_locales, lista_tuplas_f) \n",
    "conexion.commit()"
   ]
  },
  {
   "cell_type": "code",
   "execution_count": 581,
   "metadata": {},
   "outputs": [
    {
     "data": {
      "text/html": [
       "<div>\n",
       "<style scoped>\n",
       "    .dataframe tbody tr th:only-of-type {\n",
       "        vertical-align: middle;\n",
       "    }\n",
       "\n",
       "    .dataframe tbody tr th {\n",
       "        vertical-align: top;\n",
       "    }\n",
       "\n",
       "    .dataframe thead th {\n",
       "        text-align: right;\n",
       "    }\n",
       "</style>\n",
       "<table border=\"1\" class=\"dataframe\">\n",
       "  <thead>\n",
       "    <tr style=\"text-align: right;\">\n",
       "      <th></th>\n",
       "      <th>fecha</th>\n",
       "      <th>cielo</th>\n",
       "      <th>temp._(°c)</th>\n",
       "      <th>sen._térmica_(°c)</th>\n",
       "      <th>racha_máx._(km/h)</th>\n",
       "      <th>precipitación_(mm)</th>\n",
       "      <th>nieve_(mm)</th>\n",
       "      <th>humedad_relativa_(%)</th>\n",
       "      <th>prob._de_nieve_(%)</th>\n",
       "      <th>prob._de_tormenta_(%)</th>\n",
       "      <th>dirección_viento</th>\n",
       "      <th>velocidad_del_viento</th>\n",
       "      <th>id_municipio</th>\n",
       "      <th>hora</th>\n",
       "    </tr>\n",
       "  </thead>\n",
       "  <tbody>\n",
       "    <tr>\n",
       "      <th>0</th>\n",
       "      <td>2024-08-29</td>\n",
       "      <td>Nubes altas</td>\n",
       "      <td>21</td>\n",
       "      <td>21</td>\n",
       "      <td>25.0</td>\n",
       "      <td>0.0</td>\n",
       "      <td>0</td>\n",
       "      <td>69</td>\n",
       "      <td>0</td>\n",
       "      <td>75</td>\n",
       "      <td>S</td>\n",
       "      <td>7</td>\n",
       "      <td>acebeda-la</td>\n",
       "      <td>12:00:00</td>\n",
       "    </tr>\n",
       "    <tr>\n",
       "      <th>1</th>\n",
       "      <td>2024-08-29</td>\n",
       "      <td>Nubes altas</td>\n",
       "      <td>24</td>\n",
       "      <td>24</td>\n",
       "      <td>29.0</td>\n",
       "      <td>0.0</td>\n",
       "      <td>0</td>\n",
       "      <td>57</td>\n",
       "      <td>0</td>\n",
       "      <td>75</td>\n",
       "      <td>SE</td>\n",
       "      <td>12</td>\n",
       "      <td>acebeda-la</td>\n",
       "      <td>13:00:00</td>\n",
       "    </tr>\n",
       "    <tr>\n",
       "      <th>2</th>\n",
       "      <td>2024-08-29</td>\n",
       "      <td>Muy nuboso</td>\n",
       "      <td>23</td>\n",
       "      <td>23</td>\n",
       "      <td>33.0</td>\n",
       "      <td>0.0</td>\n",
       "      <td>0</td>\n",
       "      <td>59</td>\n",
       "      <td>0</td>\n",
       "      <td>80</td>\n",
       "      <td>S</td>\n",
       "      <td>14</td>\n",
       "      <td>acebeda-la</td>\n",
       "      <td>14:00:00</td>\n",
       "    </tr>\n",
       "    <tr>\n",
       "      <th>3</th>\n",
       "      <td>2024-08-29</td>\n",
       "      <td>Nubes altas</td>\n",
       "      <td>23</td>\n",
       "      <td>23</td>\n",
       "      <td>35.0</td>\n",
       "      <td>0.0</td>\n",
       "      <td>0</td>\n",
       "      <td>55</td>\n",
       "      <td>0</td>\n",
       "      <td>80</td>\n",
       "      <td>S</td>\n",
       "      <td>17</td>\n",
       "      <td>acebeda-la</td>\n",
       "      <td>15:00:00</td>\n",
       "    </tr>\n",
       "    <tr>\n",
       "      <th>4</th>\n",
       "      <td>2024-08-29</td>\n",
       "      <td>Nubes altas</td>\n",
       "      <td>21</td>\n",
       "      <td>21</td>\n",
       "      <td>34.0</td>\n",
       "      <td>0.0</td>\n",
       "      <td>0</td>\n",
       "      <td>65</td>\n",
       "      <td>0</td>\n",
       "      <td>80</td>\n",
       "      <td>S</td>\n",
       "      <td>20</td>\n",
       "      <td>acebeda-la</td>\n",
       "      <td>16:00:00</td>\n",
       "    </tr>\n",
       "  </tbody>\n",
       "</table>\n",
       "</div>"
      ],
      "text/plain": [
       "        fecha        cielo  temp._(°c)  sen._térmica_(°c)  racha_máx._(km/h)  \\\n",
       "0  2024-08-29  Nubes altas          21                 21               25.0   \n",
       "1  2024-08-29  Nubes altas          24                 24               29.0   \n",
       "2  2024-08-29   Muy nuboso          23                 23               33.0   \n",
       "3  2024-08-29  Nubes altas          23                 23               35.0   \n",
       "4  2024-08-29  Nubes altas          21                 21               34.0   \n",
       "\n",
       "   precipitación_(mm)  nieve_(mm)  humedad_relativa_(%)  prob._de_nieve_(%)  \\\n",
       "0                 0.0           0                    69                   0   \n",
       "1                 0.0           0                    57                   0   \n",
       "2                 0.0           0                    59                   0   \n",
       "3                 0.0           0                    55                   0   \n",
       "4                 0.0           0                    65                   0   \n",
       "\n",
       "   prob._de_tormenta_(%) dirección_viento  velocidad_del_viento id_municipio  \\\n",
       "0                     75                S                     7   acebeda-la   \n",
       "1                     75               SE                    12   acebeda-la   \n",
       "2                     80                S                    14   acebeda-la   \n",
       "3                     80                S                    17   acebeda-la   \n",
       "4                     80                S                    20   acebeda-la   \n",
       "\n",
       "       hora  \n",
       "0  12:00:00  \n",
       "1  13:00:00  \n",
       "2  14:00:00  \n",
       "3  15:00:00  \n",
       "4  16:00:00  "
      ]
     },
     "execution_count": 581,
     "metadata": {},
     "output_type": "execute_result"
    }
   ],
   "source": [
    "df_ae.head()"
   ]
  },
  {
   "cell_type": "code",
   "execution_count": 582,
   "metadata": {},
   "outputs": [],
   "source": [
    "lista_tuplas_ae = []\n",
    "for fila in df_ae.values:\n",
    "    lista_tuplas_ae.append(tuple(fila))"
   ]
  },
  {
   "cell_type": "code",
   "execution_count": 583,
   "metadata": {},
   "outputs": [
    {
     "data": {
      "text/plain": [
       "14"
      ]
     },
     "execution_count": 583,
     "metadata": {},
     "output_type": "execute_result"
    }
   ],
   "source": [
    "len(lista_tuplas_ae[0])"
   ]
  },
  {
   "cell_type": "code",
   "execution_count": 584,
   "metadata": {},
   "outputs": [],
   "source": [
    "query_creacion_ae = '''\n",
    "    create table if not exists clima (\n",
    "        id_clima SERIAL primary key,\n",
    "        fecha DATE,\n",
    "        cielo VARCHAR(50),\n",
    "        temperatura DECIMAL,\n",
    "        sensacion DECIMAL,\n",
    "        racha_max DECIMAL,\n",
    "        precipitacion DECIMAL,\n",
    "        nieve DECIMAL,\n",
    "        humedad_relativa DECIMAL,\n",
    "        prob_nieve DECIMAL,\n",
    "        prob_tormenta DECIMAL,\n",
    "        direccion_viento VARCHAR(10),\n",
    "        velocidad_viento DECIMAL,\n",
    "        municipio_id VARCHAR(100)\n",
    "            references municipios(id_municipio)\n",
    "            on update cascade,\n",
    "        hora VARCHAR (20)\n",
    "    );'''\n",
    "\n",
    "cursor.execute(query_creacion_ae)\n",
    "conexion.commit()"
   ]
  },
  {
   "cell_type": "code",
   "execution_count": 576,
   "metadata": {},
   "outputs": [],
   "source": [
    "df_ae.head(2)\n",
    "df_ae= df_ae.drop(columns = \"avisos\")"
   ]
  },
  {
   "cell_type": "code",
   "execution_count": 577,
   "metadata": {},
   "outputs": [
    {
     "data": {
      "text/html": [
       "<div>\n",
       "<style scoped>\n",
       "    .dataframe tbody tr th:only-of-type {\n",
       "        vertical-align: middle;\n",
       "    }\n",
       "\n",
       "    .dataframe tbody tr th {\n",
       "        vertical-align: top;\n",
       "    }\n",
       "\n",
       "    .dataframe thead th {\n",
       "        text-align: right;\n",
       "    }\n",
       "</style>\n",
       "<table border=\"1\" class=\"dataframe\">\n",
       "  <thead>\n",
       "    <tr style=\"text-align: right;\">\n",
       "      <th></th>\n",
       "      <th>fecha</th>\n",
       "      <th>cielo</th>\n",
       "      <th>temp._(°c)</th>\n",
       "      <th>sen._térmica_(°c)</th>\n",
       "      <th>racha_máx._(km/h)</th>\n",
       "      <th>precipitación_(mm)</th>\n",
       "      <th>nieve_(mm)</th>\n",
       "      <th>humedad_relativa_(%)</th>\n",
       "      <th>prob._de_nieve_(%)</th>\n",
       "      <th>prob._de_tormenta_(%)</th>\n",
       "      <th>dirección_viento</th>\n",
       "      <th>velocidad_del_viento</th>\n",
       "      <th>id_municipio</th>\n",
       "      <th>hora</th>\n",
       "    </tr>\n",
       "  </thead>\n",
       "  <tbody>\n",
       "    <tr>\n",
       "      <th>0</th>\n",
       "      <td>2024-08-29</td>\n",
       "      <td>Nubes altas</td>\n",
       "      <td>21</td>\n",
       "      <td>21</td>\n",
       "      <td>25.0</td>\n",
       "      <td>0.0</td>\n",
       "      <td>0</td>\n",
       "      <td>69</td>\n",
       "      <td>0</td>\n",
       "      <td>75</td>\n",
       "      <td>S</td>\n",
       "      <td>7</td>\n",
       "      <td>acebeda-la</td>\n",
       "      <td>12:00:00</td>\n",
       "    </tr>\n",
       "  </tbody>\n",
       "</table>\n",
       "</div>"
      ],
      "text/plain": [
       "        fecha        cielo  temp._(°c)  sen._térmica_(°c)  racha_máx._(km/h)  \\\n",
       "0  2024-08-29  Nubes altas          21                 21               25.0   \n",
       "\n",
       "   precipitación_(mm)  nieve_(mm)  humedad_relativa_(%)  prob._de_nieve_(%)  \\\n",
       "0                 0.0           0                    69                   0   \n",
       "\n",
       "   prob._de_tormenta_(%) dirección_viento  velocidad_del_viento id_municipio  \\\n",
       "0                     75                S                     7   acebeda-la   \n",
       "\n",
       "       hora  \n",
       "0  12:00:00  "
      ]
     },
     "execution_count": 577,
     "metadata": {},
     "output_type": "execute_result"
    }
   ],
   "source": [
    "df_ae.head(1)"
   ]
  },
  {
   "cell_type": "code",
   "execution_count": 585,
   "metadata": {},
   "outputs": [],
   "source": [
    "query_insercion_ae = '''\n",
    "    insert into clima (fecha, cielo, temperatura, sensacion, racha_max, precipitacion, nieve, humedad_relativa,prob_nieve,prob_tormenta,direccion_viento,velocidad_viento,municipio_id,hora)\n",
    "    values\n",
    "    (%s, %s, %s, %s, %s, %s, %s, %s, %s, %s, %s, %s, %s,%s)'''\n",
    "\n",
    "cursor.executemany(query_insercion_ae, lista_tuplas_ae)\n",
    "conexion.commit()"
   ]
  }
 ],
 "metadata": {
  "kernelspec": {
   "display_name": "Python 3",
   "language": "python",
   "name": "python3"
  },
  "language_info": {
   "codemirror_mode": {
    "name": "ipython",
    "version": 3
   },
   "file_extension": ".py",
   "mimetype": "text/x-python",
   "name": "python",
   "nbconvert_exporter": "python",
   "pygments_lexer": "ipython3",
   "version": "3.12.6"
  }
 },
 "nbformat": 4,
 "nbformat_minor": 2
}
