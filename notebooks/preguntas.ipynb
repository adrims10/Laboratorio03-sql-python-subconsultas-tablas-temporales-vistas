{
 "cells": [
  {
   "cell_type": "code",
   "execution_count": 15,
   "metadata": {},
   "outputs": [],
   "source": [
    "import pandas as pd\n",
    "import psycopg2\n",
    "from psycopg2 import OperationalError, errorcodes, errors"
   ]
  },
  {
   "cell_type": "code",
   "execution_count": 16,
   "metadata": {},
   "outputs": [],
   "source": [
    "try:\n",
    "\n",
    "    conexion1 = psycopg2.connect(database='Forq',\n",
    "                                    user= 'postgres',\n",
    "                                    password='admin',\n",
    "                                    host= 'localhost',\n",
    "                                    port='5432')\n",
    "except OperationalError as e:\n",
    "    if e.pgcode == errorcodes.INVALID_PASSWORD:\n",
    "        print('La contraseña es erronea')\n",
    "    elif e.pgcode == errorcodes.CONNECTION_EXCEPTION:\n",
    "        print('Error de conexion')\n",
    "    else:\n",
    "        print(f'ocurrio el error {e}')\n",
    "\n",
    "cursor = conexion1.cursor()"
   ]
  },
  {
   "cell_type": "markdown",
   "metadata": {},
   "source": [
    "Lista todos los parques en el municipio de ajalvir"
   ]
  },
  {
   "cell_type": "code",
   "execution_count": 17,
   "metadata": {},
   "outputs": [
    {
     "data": {
      "text/plain": [
       "[('ajalvir',\n",
       "  'Park',\n",
       "  '178',\n",
       "  'LikelyOpen',\n",
       "  563.0,\n",
       "  '/v3/places/4d3c6c5b84d46ea87dddfd5c',\n",
       "  'Diverjungla',\n",
       "  'Calle Segovia, 20 (Pol. Ind. Donada), 28864 Ajalvir Comunidad de Madrid',\n",
       "  42,\n",
       "  40.529921,\n",
       "  -3.484341)]"
      ]
     },
     "execution_count": 17,
     "metadata": {},
     "output_type": "execute_result"
    }
   ],
   "source": [
    "query = \"\"\"\n",
    "SELECT * FROM parques \n",
    "WHERE municipio = %s;\n",
    "\"\"\"\n",
    "valores = ('ajalvir',)\n",
    "cursor.execute(query, valores)\n",
    "resultados = cursor.fetchall()\n",
    "resultados"
   ]
  },
  {
   "cell_type": "markdown",
   "metadata": {},
   "source": [
    "Encuentra la latitud y longitud de una la localizacion_id = acebeda-la-id28001"
   ]
  },
  {
   "cell_type": "code",
   "execution_count": 18,
   "metadata": {},
   "outputs": [],
   "source": [
    "# query = \"\"\"\n",
    "# SELECT l.latitud, l.longitud FROM localidades l\n",
    "# JOIN clima c ON l.id = c.localizacion_id \n",
    "# WHERE c.localizacion_id = %s;\n",
    "# \"\"\"\n",
    "# valores = ('acebeda-la-id28001',)\n",
    "# cursor.execute(query, valores)\n",
    "# resultados = cursor.fetchall()\n"
   ]
  },
  {
   "cell_type": "markdown",
   "metadata": {},
   "source": [
    "Consulta para obtener la categoría y distancia de parques en alamo-el"
   ]
  },
  {
   "cell_type": "code",
   "execution_count": 20,
   "metadata": {},
   "outputs": [
    {
     "name": "stdout",
     "output_type": "stream",
     "text": [
      "[]\n"
     ]
    }
   ],
   "source": [
    "query = \"\"\"\n",
    "SELECT p.categoria, p.distance FROM parques p\n",
    "JOIN localidades l ON p.municipio = l.municipios \n",
    "WHERE l.municipios = %s;\n",
    "\"\"\"\n",
    "valores = ('alamo-el',)\n",
    "cursor.execute(query, valores)\n",
    "resultados = cursor.fetchall()\n",
    "print(resultados)"
   ]
  },
  {
   "cell_type": "markdown",
   "metadata": {},
   "source": [
    "Encuentra todas las localizaciones con una racha máxima de viento superior a 50 km"
   ]
  },
  {
   "cell_type": "code",
   "execution_count": null,
   "metadata": {},
   "outputs": [],
   "source": [
    "# query = \"\"\"\n",
    "# SELECT * FROM localidades l\n",
    "# JOIN clima c ON l.id = c.localizacion_id \n",
    "# WHERE c.racha_max_kmh > %s;\n",
    "# \"\"\"\n",
    "# valores = ('50')\n",
    "# cursor.execute(query, valores)\n",
    "# resultados = cursor.fetchall()\n",
    "# print(resultados)"
   ]
  },
  {
   "cell_type": "markdown",
   "metadata": {},
   "source": [
    "Obtener información meteorológica y de parques para un municipio villaviciosa-de-odon"
   ]
  },
  {
   "cell_type": "code",
   "execution_count": 24,
   "metadata": {},
   "outputs": [],
   "source": [
    "# query = \"\"\"\n",
    "# SELECT l.municipios, c.fecha, c.temp_celsius, p.categoria, p.nombre FROM localidades l\n",
    "# JOIN clima c ON l.id = c.localizacion_id\n",
    "# JOIN parques p ON l.id = p.id\n",
    "# WHERE l.municipios = %s;\n",
    "# \"\"\"\n",
    "# valores = ('villaviciosa-de-odon',)\n",
    "# cursor.execute(query, valores)\n",
    "# resultados = cursor.fetchall()\n",
    "# print(resultados)"
   ]
  }
 ],
 "metadata": {
  "kernelspec": {
   "display_name": "Python 3",
   "language": "python",
   "name": "python3"
  },
  "language_info": {
   "codemirror_mode": {
    "name": "ipython",
    "version": 3
   },
   "file_extension": ".py",
   "mimetype": "text/x-python",
   "name": "python",
   "nbconvert_exporter": "python",
   "pygments_lexer": "ipython3",
   "version": "3.12.6"
  }
 },
 "nbformat": 4,
 "nbformat_minor": 2
}
